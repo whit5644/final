{
  "metadata": {
    "language_info": {
      "codemirror_mode": {
        "name": "python",
        "version": 3
      },
      "file_extension": ".py",
      "mimetype": "text/x-python",
      "name": "python",
      "nbconvert_exporter": "python",
      "pygments_lexer": "ipython3",
      "version": "3.8"
    },
    "kernelspec": {
      "name": "python",
      "display_name": "Python (Pyodide)",
      "language": "python"
    }
  },
  "nbformat_minor": 4,
  "nbformat": 4,
  "cells": [
    {
      "cell_type": "markdown",
      "source": "#Data Science Tools and Ecosystems",
      "metadata": {}
    },
    {
      "cell_type": "markdown",
      "source": "#Introduction In this notebook, it will summarize the key aspects of data science tools and ecosystems",
      "metadata": {}
    },
    {
      "cell_type": "markdown",
      "source": "#Data science language overview: Some of the more popluar languages that data science uses include:",
      "metadata": {}
    },
    {
      "cell_type": "markdown",
      "source": "1. Python\n2. R\n3. SQL",
      "metadata": {}
    },
    {
      "cell_type": "markdown",
      "source": "#Data science library overview: Some of the commonly used libraries used by data scientists include:\n",
      "metadata": {}
    },
    {
      "cell_type": "markdown",
      "source": "1. Numpy\n2. Pandas\n3. Matplotlib",
      "metadata": {}
    },
    {
      "cell_type": "markdown",
      "source": "#Data Science Tools",
      "metadata": {}
    },
    {
      "cell_type": "markdown",
      "source": "#Data Science Tools\n|Data Science Tools|\n|-------------|\n|Jupyter Notebook|\n|Rstudio|\n|Visual Studio Code|",
      "metadata": {}
    },
    {
      "cell_type": "markdown",
      "source": "#Introducto to arithmetic expression \n\n###Below are a few examples of evaluationg arithmetic expressions in python:",
      "metadata": {}
    },
    {
      "cell_type": "code",
      "source": "# Addition\nresult = 1 + 2\nprint(\"Result of addition:\", result)\n\n# Subtraction\nvalue = 5 - 3\nprint(\"Result of subtraction:\", value)\n\n# Multiplication\nproduct = 2 * 3\nprint(\"Result of multiplication:\", product)\n\n# Division\nquotient = 10 / 2\nprint(\"Result of division:\", quotient)\n",
      "metadata": {
        "trusted": true
      },
      "execution_count": 3,
      "outputs": [
        {
          "name": "stdout",
          "text": "Result of addition: 3\nResult of subtraction: 2\nResult of multiplication: 6\nResult of division: 5.0\n",
          "output_type": "stream"
        }
      ]
    },
    {
      "cell_type": "code",
      "source": "# This is a simple arithmetic expression to multiply then add integers.\nresult = (3 * 4) + 5\n\n# Display the result\nresult\n",
      "metadata": {
        "trusted": true
      },
      "execution_count": 4,
      "outputs": [
        {
          "execution_count": 4,
          "output_type": "execute_result",
          "data": {
            "text/plain": "17"
          },
          "metadata": {}
        }
      ]
    },
    {
      "cell_type": "code",
      "source": "# This will convert 200 minutes to hours by dividing by 60.\nminutes = 200\nhours = minutes / 60\n\n# Display the result\nhours\n",
      "metadata": {
        "trusted": true
      },
      "execution_count": 5,
      "outputs": [
        {
          "execution_count": 5,
          "output_type": "execute_result",
          "data": {
            "text/plain": "3.3333333333333335"
          },
          "metadata": {}
        }
      ]
    },
    {
      "cell_type": "markdown",
      "source": "**Objectives:**\n\n- List popular languages for Data Science.\n- Introduce arithmetic expression examples in Python.\n- Demonstrate how to create and execute code cells in Jupyter Notebook.\n- Convert minutes to hours using simple arithmetic operations.\n- Showcase the use of Markdown cells for documentation and explanations.\n",
      "metadata": {}
    },
    {
      "cell_type": "markdown",
      "source": "## Author\nPatrick White\n",
      "metadata": {}
    },
    {
      "cell_type": "code",
      "source": "",
      "metadata": {},
      "execution_count": null,
      "outputs": []
    }
  ]
}